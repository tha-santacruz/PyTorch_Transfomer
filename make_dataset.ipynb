{
 "cells": [
  {
   "cell_type": "code",
   "execution_count": 11,
   "metadata": {},
   "outputs": [],
   "source": [
    "import random\n",
    "import string"
   ]
  },
  {
   "cell_type": "markdown",
   "metadata": {},
   "source": [
    "## Trials"
   ]
  },
  {
   "cell_type": "code",
   "execution_count": 12,
   "metadata": {},
   "outputs": [
    {
     "data": {
      "text/plain": [
       "'~w'"
      ]
     },
     "execution_count": 12,
     "metadata": {},
     "output_type": "execute_result"
    }
   ],
   "source": [
    "word_length = 2\n",
    "pool = string.ascii_letters + string.digits + string.punctuation\n",
    "\"\".join(random.choices(pool, k=word_length))"
   ]
  },
  {
   "cell_type": "code",
   "execution_count": 13,
   "metadata": {},
   "outputs": [
    {
     "data": {
      "text/plain": [
       "'z@ 8T PY 3s /g 8v .V wn 1$ (f'"
      ]
     },
     "execution_count": 13,
     "metadata": {},
     "output_type": "execute_result"
    }
   ],
   "source": [
    "sequence_length = 10\n",
    "sequence = [None]*sequence_length\n",
    "for i in range(sequence_length):\n",
    "    sequence[i] = \"\".join(random.choices(pool, k=word_length))\n",
    "\" \".join(sequence)\n"
   ]
  },
  {
   "cell_type": "code",
   "execution_count": 14,
   "metadata": {},
   "outputs": [
    {
     "data": {
      "text/plain": [
       "['(f', '.V', '/g', '1$', '3s', '8T', '8v', 'PY', 'wn', 'z@']"
      ]
     },
     "execution_count": 14,
     "metadata": {},
     "output_type": "execute_result"
    }
   ],
   "source": [
    "sorted(sequence)"
   ]
  },
  {
   "cell_type": "code",
   "execution_count": 15,
   "metadata": {},
   "outputs": [
    {
     "data": {
      "text/plain": [
       "8836"
      ]
     },
     "execution_count": 15,
     "metadata": {},
     "output_type": "execute_result"
    }
   ],
   "source": [
    "len(pool)**2"
   ]
  },
  {
   "cell_type": "markdown",
   "metadata": {},
   "source": [
    "## Dataset Generation"
   ]
  },
  {
   "cell_type": "code",
   "execution_count": 16,
   "metadata": {},
   "outputs": [],
   "source": [
    "with open(\"SeqSort.u-s.u\", \"w\"):\n",
    "    pass\n",
    "with open(\"SeqSort.u-s.s\", \"w\"):\n",
    "    pass"
   ]
  },
  {
   "cell_type": "code",
   "execution_count": 17,
   "metadata": {},
   "outputs": [],
   "source": [
    "sequence_length=5\n",
    "word_length = 2\n",
    "pool = string.ascii_letters + string.digits #+ string.punctuation\n",
    "\n",
    "for i in range(10000):\n",
    "    sequence = [None]*sequence_length\n",
    "    for j in range(sequence_length):\n",
    "        sequence[j] = \"\".join(random.choices(pool, k=word_length))\n",
    "    \n",
    "    \n",
    "    with open(\"SeqSort.u-s.u\", \"a\") as file:\n",
    "        file.write(\" \".join(sequence) + \" \\n\")\n",
    "\n",
    "    with open(\"SeqSort.u-s.s\", \"a\") as file:\n",
    "        file.write(\" \".join(sorted(sequence)) + \" \\n\")"
   ]
  },
  {
   "cell_type": "code",
   "execution_count": null,
   "metadata": {},
   "outputs": [],
   "source": []
  }
 ],
 "metadata": {
  "kernelspec": {
   "display_name": "thom",
   "language": "python",
   "name": "python3"
  },
  "language_info": {
   "codemirror_mode": {
    "name": "ipython",
    "version": 3
   },
   "file_extension": ".py",
   "mimetype": "text/x-python",
   "name": "python",
   "nbconvert_exporter": "python",
   "pygments_lexer": "ipython3",
   "version": "3.12.1"
  }
 },
 "nbformat": 4,
 "nbformat_minor": 2
}
